{
 "cells": [
  {
   "cell_type": "code",
   "execution_count": 126,
   "metadata": {},
   "outputs": [],
   "source": [
    "s2=\"program\"\n",
    "s1=\"grapo\"\n",
    "sorting_dict={}\n",
    "s1=s1.lower()\n",
    "new_one=[0]*len(s2)\n",
    "def indict(b):\n",
    "    i=-1\n",
    "    try:\n",
    "       i=sorting_dict[b]\n",
    "    except:\n",
    "        pass\n",
    "    return i\n",
    "def check(string,b,m):\n",
    "    if(string[m]==0):\n",
    "        string[m]=b\n",
    "    else:\n",
    "        if(indict(string[m])>=0) and(indict(b)>=0): \n",
    "            if (sorting_dict[string[m]]>sorting_dict[b]):\n",
    "                temp=string[m]\n",
    "                string[m]=b\n",
    "                check(string,temp,m+1)\n",
    "            else:\n",
    "                check(string,b,m+1)\n",
    "        else:\n",
    "            if(indict(string[m])<0) and(indict(b)>=0):\n",
    "                        temp=string[m]\n",
    "                        string[m]=b\n",
    "                        check(string,temp,m+1)\n",
    "            else:\n",
    "                    check(string,b,m+1)\n",
    "                 \n",
    "      \n",
    "        "
   ]
  },
  {
   "cell_type": "code",
   "execution_count": 127,
   "metadata": {},
   "outputs": [],
   "source": [
    "for i in range(len(s1)):\n",
    "        sorting_dict[s1[i]]=i     \n",
    "for j in range(len(s2)):\n",
    "    check(new_one,s2[j],0)\n",
    "    "
   ]
  },
  {
   "cell_type": "code",
   "execution_count": null,
   "metadata": {},
   "outputs": [],
   "source": []
  },
  {
   "cell_type": "code",
   "execution_count": null,
   "metadata": {},
   "outputs": [],
   "source": []
  },
  {
   "cell_type": "code",
   "execution_count": null,
   "metadata": {},
   "outputs": [],
   "source": []
  },
  {
   "cell_type": "code",
   "execution_count": null,
   "metadata": {},
   "outputs": [],
   "source": []
  },
  {
   "cell_type": "code",
   "execution_count": null,
   "metadata": {},
   "outputs": [],
   "source": []
  },
  {
   "cell_type": "code",
   "execution_count": null,
   "metadata": {
    "collapsed": true
   },
   "outputs": [],
   "source": []
  }
 ],
 "metadata": {
  "kernelspec": {
   "display_name": "Python 3",
   "language": "python",
   "name": "python3"
  },
  "language_info": {
   "codemirror_mode": {
    "name": "ipython",
    "version": 2
   },
   "file_extension": ".py",
   "mimetype": "text/x-python",
   "name": "python",
   "nbconvert_exporter": "python",
   "pygments_lexer": "ipython2",
   "version": "2.7.14"
  }
 },
 "nbformat": 4,
 "nbformat_minor": 2
}
